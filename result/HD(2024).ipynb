{
 "cells": [
  {
   "cell_type": "markdown",
   "metadata": {},
   "source": [
    "## Import"
   ]
  },
  {
   "cell_type": "code",
   "execution_count": 1,
   "metadata": {},
   "outputs": [],
   "source": [
    "import numpy as np\n",
    "import pandas as pd\n",
    "import os\n",
    "import pickle\n",
    "import matplotlib.pyplot as plt\n",
    "import seaborn as sns\n",
    "from scipy import stats\n",
    "from tqdm import tqdm\n",
    "import itertools\n",
    "import datetime\n",
    "from datetime import timedelta"
   ]
  },
  {
   "cell_type": "markdown",
   "metadata": {},
   "source": [
    "## Load data"
   ]
  },
  {
   "cell_type": "code",
   "execution_count": 2,
   "metadata": {},
   "outputs": [],
   "source": [
    "# 55000\n",
    "with open(os.path.join('/home/tohone06/','result','paper_drop_srgc_mlpt_202310/train_replaced_with_syn.pkl'), 'rb') as f:\n",
    "    test = pickle.load(f)\n",
    "\n",
    "real_sta = pd.concat([test['raw_set'][0],test['test_set'][0]])\n",
    "real_dyn = test['raw_set'][1] + test['test_set'][1]\n",
    "# real_sta = test['test_set'][0]\n",
    "# real_dyn = test['test_set'][1]\n",
    "\n",
    "syn_sta = test['train_set'][0]\n",
    "syn_dyn = test['train_set'][1]"
   ]
  },
  {
   "cell_type": "code",
   "execution_count": 3,
   "metadata": {},
   "outputs": [],
   "source": [
    "pd.set_option('display.max_row', 500)\n",
    "pd.set_option('display.max_columns', 100)"
   ]
  },
  {
   "cell_type": "code",
   "execution_count": 4,
   "metadata": {},
   "outputs": [
    {
     "data": {
      "text/plain": [
       "55000"
      ]
     },
     "execution_count": 4,
     "metadata": {},
     "output_type": "execute_result"
    }
   ],
   "source": [
    "len(syn_sta)"
   ]
  },
  {
   "cell_type": "code",
   "execution_count": 5,
   "metadata": {},
   "outputs": [],
   "source": [
    "#data logic 55000명\n",
    "with open(os.path.join('/home/tohone06/RTSGAN-github/drop_ptno_paper_202310_55000.pkl'), 'rb') as f:\n",
    "    drop_ptno = pickle.load(f)"
   ]
  },
  {
   "cell_type": "markdown",
   "metadata": {},
   "source": [
    "## dyn_num"
   ]
  },
  {
   "cell_type": "code",
   "execution_count": 6,
   "metadata": {},
   "outputs": [
    {
     "name": "stderr",
     "output_type": "stream",
     "text": [
      "100%|██████████| 25/25 [00:44<00:00,  1.78s/it]\n"
     ]
    }
   ],
   "source": [
    "#real_dyn\n",
    "col = real_dyn[0].columns\n",
    "\n",
    "tot_real = []\n",
    "for i in tqdm(real_dyn[0].columns):\n",
    "    var = []\n",
    "    for k,g in enumerate(real_dyn):\n",
    "        var.append(g[i].dropna().tolist())\n",
    "    var = list(itertools.chain(*var))\n",
    "    tot_real.append([i,var])"
   ]
  },
  {
   "cell_type": "code",
   "execution_count": 8,
   "metadata": {},
   "outputs": [
    {
     "name": "stderr",
     "output_type": "stream",
     "text": [
      "100%|██████████| 25/25 [02:40<00:00,  6.44s/it]\n"
     ]
    }
   ],
   "source": [
    "#syn_dyn\n",
    "tot_syn = []\n",
    "for i in tqdm(syn_dyn[0].columns):\n",
    "    var = []\n",
    "    for k,g in enumerate(syn_dyn):\n",
    "        if k in drop_ptno:\n",
    "            continue\n",
    "        var.append(g[i].dropna().tolist())\n",
    "    var = list(itertools.chain(*var))\n",
    "    tot_syn.append([i,var])"
   ]
  },
  {
   "cell_type": "code",
   "execution_count": 9,
   "metadata": {},
   "outputs": [],
   "source": [
    "# syn에서 아예 합성되지 않은 컬럼 추출\n",
    "not_cols = []\n",
    "for i in range(len(tot_syn)):\n",
    "    if len(tot_syn[i][1]) == 0:\n",
    "        not_cols.append(tot_syn[i][0])"
   ]
  },
  {
   "cell_type": "code",
   "execution_count": 10,
   "metadata": {},
   "outputs": [],
   "source": [
    "tot_syn = [tot_syn[i] for i in range(len(tot_syn)) if tot_syn[i][0] not in not_cols]\n",
    "\n",
    "tot_real = [tot_real[i] for i in range(len(tot_real)) if tot_real[i][0] not in not_cols]"
   ]
  },
  {
   "cell_type": "code",
   "execution_count": 23,
   "metadata": {},
   "outputs": [],
   "source": [
    "numeric = ['CEXM_RSLT_CONT','TIMESTAMP','SGPT_SRMV_LN_CNT','SGPT_MTST_LN_CNT','LINE','CSTR_END_YMD','CSTR_NT', 'RDT_END_YMD']"
   ]
  },
  {
   "cell_type": "code",
   "execution_count": 24,
   "metadata": {},
   "outputs": [],
   "source": [
    "# num, cat 분리\n",
    "tot_syn_num = [tot_syn[i] for i in range(len(tot_syn)) if tot_syn[i][0] in numeric]\n",
    "tot_syn_cat = [tot_syn[i] for i in range(len(tot_syn)) if tot_syn[i][0] not in numeric]\n",
    "\n",
    "tot_real_num = [tot_real[i] for i in range(len(tot_real)) if tot_real[i][0] in numeric]\n",
    "tot_real_cat = [tot_real[i] for i in range(len(tot_real)) if tot_real[i][0] not in numeric]"
   ]
  },
  {
   "cell_type": "code",
   "execution_count": 25,
   "metadata": {},
   "outputs": [],
   "source": [
    "tot_real_num[2][1] = np.array(tot_real_num[2][1]).astype('int')\n",
    "tot_real_num[3][1] = np.array(tot_real_num[3][1]).astype('int')"
   ]
  },
  {
   "cell_type": "code",
   "execution_count": 14,
   "metadata": {},
   "outputs": [],
   "source": [
    "#실제 데이터, 합성 데이터, bin_size, column_name\n",
    "def hd(real,syn,bin_size):\n",
    "    \n",
    "    if bin_size < 1:\n",
    "        real = np.array([round(num,1) for num in real])\n",
    "        syn = np.array([round(num,1) for num in syn])\n",
    "        \n",
    "        syn_min = syn.min()\n",
    "        syn_max = syn.max()\n",
    "        real_min = real.min()\n",
    "        real_max = real.max()\n",
    "\n",
    "        min_ = np.array([real_min,syn_min]).min()\n",
    "        max_ = np.array([real_max,syn_max]).max()\n",
    "        arange = pd.DataFrame(np.arange(min_,max_+0.1,bin_size),columns = ['index'])\n",
    "        \n",
    "    \n",
    "    else: #bin_size = 1\n",
    "        real = np.floor(real)\n",
    "        syn = np.floor(syn)\n",
    "        \n",
    "        syn_min = syn.min()\n",
    "        syn_max = syn.max()\n",
    "        real_min = real.min()\n",
    "        real_max = real.max()\n",
    "\n",
    "        min_ = np.array([real_min,syn_min]).min()\n",
    "        max_ = np.array([real_max,syn_max]).max()\n",
    "\n",
    "        arange = pd.DataFrame(np.arange(min_,max_+0.1,bin_size),columns = ['index'])\n",
    "    \n",
    "    real = pd.DataFrame(real)[0].value_counts().to_frame().reset_index(False).sort_values('index')\n",
    "    real = pd.merge(arange,real, how = 'left', on = 'index').fillna(0)\n",
    "    real = np.array(round(real[0]/real[0].sum(),4).tolist())\n",
    "\n",
    "    syn = pd.DataFrame(syn)[0].value_counts().to_frame().reset_index(False).sort_values('index')\n",
    "    syn = pd.merge(arange,syn, how = 'left', on = 'index').fillna(0)\n",
    "    syn = np.array(round(syn[0]/syn[0].sum(),4).tolist())\n",
    "\n",
    "    bc = sum(np.sqrt(real*syn))\n",
    "    hd = 1-bc\n",
    "    \n",
    "    return hd"
   ]
  },
  {
   "cell_type": "code",
   "execution_count": 15,
   "metadata": {},
   "outputs": [],
   "source": [
    "#numeric's HD\n",
    "hd_list = []\n",
    "bin_list = [1,1,1,1,1,1,1,1]\n",
    "for k,g in enumerate(zip(tot_real_num,tot_syn_num)):\n",
    "    hd_list.append([g[0][0],hd(g[0][1],g[1][1],bin_list[k])])"
   ]
  },
  {
   "cell_type": "code",
   "execution_count": 16,
   "metadata": {},
   "outputs": [
    {
     "data": {
      "text/html": [
       "<div>\n",
       "<style scoped>\n",
       "    .dataframe tbody tr th:only-of-type {\n",
       "        vertical-align: middle;\n",
       "    }\n",
       "\n",
       "    .dataframe tbody tr th {\n",
       "        vertical-align: top;\n",
       "    }\n",
       "\n",
       "    .dataframe thead th {\n",
       "        text-align: right;\n",
       "    }\n",
       "</style>\n",
       "<table border=\"1\" class=\"dataframe\">\n",
       "  <thead>\n",
       "    <tr style=\"text-align: right;\">\n",
       "      <th></th>\n",
       "      <th>COL</th>\n",
       "      <th>HD</th>\n",
       "    </tr>\n",
       "  </thead>\n",
       "  <tbody>\n",
       "    <tr>\n",
       "      <th>0</th>\n",
       "      <td>CEXM_RSLT_CONT</td>\n",
       "      <td>0.000437</td>\n",
       "    </tr>\n",
       "    <tr>\n",
       "      <th>1</th>\n",
       "      <td>TIMESTAMP</td>\n",
       "      <td>0.023038</td>\n",
       "    </tr>\n",
       "    <tr>\n",
       "      <th>2</th>\n",
       "      <td>SGPT_SRMV_LN_CNT</td>\n",
       "      <td>0.058716</td>\n",
       "    </tr>\n",
       "    <tr>\n",
       "      <th>3</th>\n",
       "      <td>SGPT_MTST_LN_CNT</td>\n",
       "      <td>0.014385</td>\n",
       "    </tr>\n",
       "    <tr>\n",
       "      <th>4</th>\n",
       "      <td>LINE</td>\n",
       "      <td>0.004744</td>\n",
       "    </tr>\n",
       "    <tr>\n",
       "      <th>5</th>\n",
       "      <td>CSTR_END_YMD</td>\n",
       "      <td>0.141307</td>\n",
       "    </tr>\n",
       "    <tr>\n",
       "      <th>6</th>\n",
       "      <td>CSTR_NT</td>\n",
       "      <td>0.122393</td>\n",
       "    </tr>\n",
       "    <tr>\n",
       "      <th>7</th>\n",
       "      <td>RDT_END_YMD</td>\n",
       "      <td>0.089232</td>\n",
       "    </tr>\n",
       "  </tbody>\n",
       "</table>\n",
       "</div>"
      ],
      "text/plain": [
       "                COL        HD\n",
       "0    CEXM_RSLT_CONT  0.000437\n",
       "1         TIMESTAMP  0.023038\n",
       "2  SGPT_SRMV_LN_CNT  0.058716\n",
       "3  SGPT_MTST_LN_CNT  0.014385\n",
       "4              LINE  0.004744\n",
       "5      CSTR_END_YMD  0.141307\n",
       "6           CSTR_NT  0.122393\n",
       "7       RDT_END_YMD  0.089232"
      ]
     },
     "execution_count": 16,
     "metadata": {},
     "output_type": "execute_result"
    }
   ],
   "source": [
    "pd.DataFrame(hd_list, columns = ['COL','HD'])"
   ]
  },
  {
   "cell_type": "markdown",
   "metadata": {},
   "source": [
    "## dyn_cat"
   ]
  },
  {
   "cell_type": "code",
   "execution_count": 26,
   "metadata": {},
   "outputs": [],
   "source": [
    "def hd_cat(real,syn):\n",
    "    try:\n",
    "        if sorted(pd.DataFrame(real)[0].unique().tolist()) == sorted(pd.DataFrame(syn)[0].unique().tolist()):\n",
    "            r = pd.DataFrame(real)[0].value_counts()\n",
    "            s = pd.DataFrame(syn)[0].value_counts()\n",
    "            r = r.sort_index()/sum(r)\n",
    "            s = s.sort_index()/sum(s)\n",
    "            bc = sum(np.sqrt(r*s))\n",
    "            hd = round(1-bc,4)\n",
    "        else: #데이터가 생성이 안되는 문제 등 columns의 unique값이 다른 경우\n",
    "            r = pd.DataFrame(real)[0].value_counts()\n",
    "            s = pd.DataFrame(syn)[0].value_counts()\n",
    "            real_list = r.index.tolist()\n",
    "            syn_list = s.index.tolist()\n",
    "\n",
    "            supplement = [c for c in real_list if c not in syn_list]\n",
    "            for i in range(len(supplement)):\n",
    "                s.loc[supplement[i]] = 0\n",
    "\n",
    "            supplement = [c for c in syn_list if c not in real_list]\n",
    "            for i in range(len(supplement)):\n",
    "                r.loc[supplement[i]] = 0\n",
    "            \n",
    "        r = r.sort_index()/sum(r)\n",
    "        s = s.sort_index()/sum(s)\n",
    "        bc = sum(np.sqrt(r*s))\n",
    "        hd = round(np.sqrt(1-bc),4)\n",
    "    \n",
    "    except:\n",
    "        hd = np.nan\n",
    "    \n",
    "    return hd"
   ]
  },
  {
   "cell_type": "code",
   "execution_count": 28,
   "metadata": {},
   "outputs": [],
   "source": [
    "#stage, m_stage dtype \n",
    "tot_syn_cat[9][1] = [str(int(i)) for i in tot_syn_cat[9][1]]\n",
    "tot_syn_cat[12][1] = [str(int(i)) for i in tot_syn_cat[12][1]]"
   ]
  },
  {
   "cell_type": "code",
   "execution_count": 29,
   "metadata": {},
   "outputs": [],
   "source": [
    "hd_list = []\n",
    "for k,g in enumerate(zip(tot_real_cat,tot_syn_cat)):\n",
    "    hd_list.append([g[0][0],hd_cat(g[0][1],g[1][1])])"
   ]
  },
  {
   "cell_type": "code",
   "execution_count": 30,
   "metadata": {
    "scrolled": true
   },
   "outputs": [
    {
     "data": {
      "text/html": [
       "<div>\n",
       "<style scoped>\n",
       "    .dataframe tbody tr th:only-of-type {\n",
       "        vertical-align: middle;\n",
       "    }\n",
       "\n",
       "    .dataframe tbody tr th {\n",
       "        vertical-align: top;\n",
       "    }\n",
       "\n",
       "    .dataframe thead th {\n",
       "        text-align: right;\n",
       "    }\n",
       "</style>\n",
       "<table border=\"1\" class=\"dataframe\">\n",
       "  <thead>\n",
       "    <tr style=\"text-align: right;\">\n",
       "      <th></th>\n",
       "      <th>0</th>\n",
       "      <th>1</th>\n",
       "    </tr>\n",
       "  </thead>\n",
       "  <tbody>\n",
       "    <tr>\n",
       "      <th>0</th>\n",
       "      <td>CEXM_RSLT_CONT</td>\n",
       "      <td>0.0196</td>\n",
       "    </tr>\n",
       "    <tr>\n",
       "      <th>1</th>\n",
       "      <td>BPTH_BPSY_RSLT_CONT</td>\n",
       "      <td>0.0033</td>\n",
       "    </tr>\n",
       "    <tr>\n",
       "      <th>2</th>\n",
       "      <td>IMPT_HM1E_RSLT_CD</td>\n",
       "      <td>0.0000</td>\n",
       "    </tr>\n",
       "    <tr>\n",
       "      <th>3</th>\n",
       "      <td>IMPT_HS2E_RSLT_CD</td>\n",
       "      <td>0.0000</td>\n",
       "    </tr>\n",
       "    <tr>\n",
       "      <th>4</th>\n",
       "      <td>IMPT_HS6E_RSLT_CD</td>\n",
       "      <td>0.0000</td>\n",
       "    </tr>\n",
       "    <tr>\n",
       "      <th>5</th>\n",
       "      <td>IMPT_HP2E_RSLT_CD</td>\n",
       "      <td>0.0000</td>\n",
       "    </tr>\n",
       "    <tr>\n",
       "      <th>6</th>\n",
       "      <td>MLPT_KRES_RSLT_CD</td>\n",
       "      <td>0.1010</td>\n",
       "    </tr>\n",
       "    <tr>\n",
       "      <th>7</th>\n",
       "      <td>MLPT_NREX_RSLT_CD</td>\n",
       "      <td>0.1193</td>\n",
       "    </tr>\n",
       "    <tr>\n",
       "      <th>8</th>\n",
       "      <td>MLPT_BRME_RSLT_CD</td>\n",
       "      <td>0.1060</td>\n",
       "    </tr>\n",
       "    <tr>\n",
       "      <th>9</th>\n",
       "      <td>SGPT_PATL_STAG_VL</td>\n",
       "      <td>0.0759</td>\n",
       "    </tr>\n",
       "    <tr>\n",
       "      <th>10</th>\n",
       "      <td>SGPT_PATL_T_STAG_VL</td>\n",
       "      <td>0.0913</td>\n",
       "    </tr>\n",
       "    <tr>\n",
       "      <th>11</th>\n",
       "      <td>SGPT_PATL_N_STAG_VL</td>\n",
       "      <td>0.0733</td>\n",
       "    </tr>\n",
       "    <tr>\n",
       "      <th>12</th>\n",
       "      <td>SGPT_PATL_M_STAG_VL</td>\n",
       "      <td>0.0372</td>\n",
       "    </tr>\n",
       "    <tr>\n",
       "      <th>13</th>\n",
       "      <td>SGPT_TUMR_BUDD_CD</td>\n",
       "      <td>0.0279</td>\n",
       "    </tr>\n",
       "    <tr>\n",
       "      <th>14</th>\n",
       "      <td>OPRT_CLCN_OPRT_KIND_CD</td>\n",
       "      <td>0.0516</td>\n",
       "    </tr>\n",
       "    <tr>\n",
       "      <th>15</th>\n",
       "      <td>OPRT_CURA_RSCT_CD</td>\n",
       "      <td>0.0642</td>\n",
       "    </tr>\n",
       "    <tr>\n",
       "      <th>16</th>\n",
       "      <td>CSTR_PRPS_CD</td>\n",
       "      <td>0.0217</td>\n",
       "    </tr>\n",
       "    <tr>\n",
       "      <th>17</th>\n",
       "      <td>CSTR_REGN_CD</td>\n",
       "      <td>0.0884</td>\n",
       "    </tr>\n",
       "  </tbody>\n",
       "</table>\n",
       "</div>"
      ],
      "text/plain": [
       "                         0       1\n",
       "0           CEXM_RSLT_CONT  0.0196\n",
       "1      BPTH_BPSY_RSLT_CONT  0.0033\n",
       "2        IMPT_HM1E_RSLT_CD  0.0000\n",
       "3        IMPT_HS2E_RSLT_CD  0.0000\n",
       "4        IMPT_HS6E_RSLT_CD  0.0000\n",
       "5        IMPT_HP2E_RSLT_CD  0.0000\n",
       "6        MLPT_KRES_RSLT_CD  0.1010\n",
       "7        MLPT_NREX_RSLT_CD  0.1193\n",
       "8        MLPT_BRME_RSLT_CD  0.1060\n",
       "9        SGPT_PATL_STAG_VL  0.0759\n",
       "10     SGPT_PATL_T_STAG_VL  0.0913\n",
       "11     SGPT_PATL_N_STAG_VL  0.0733\n",
       "12     SGPT_PATL_M_STAG_VL  0.0372\n",
       "13       SGPT_TUMR_BUDD_CD  0.0279\n",
       "14  OPRT_CLCN_OPRT_KIND_CD  0.0516\n",
       "15       OPRT_CURA_RSCT_CD  0.0642\n",
       "16            CSTR_PRPS_CD  0.0217\n",
       "17            CSTR_REGN_CD  0.0884"
      ]
     },
     "execution_count": 30,
     "metadata": {},
     "output_type": "execute_result"
    }
   ],
   "source": [
    "pd.DataFrame(hd_list)"
   ]
  },
  {
   "cell_type": "markdown",
   "metadata": {},
   "source": [
    "## Static"
   ]
  },
  {
   "cell_type": "code",
   "execution_count": 31,
   "metadata": {},
   "outputs": [],
   "source": [
    "syn_sta = syn_sta.reset_index(drop = True)\n",
    "syn_sta = syn_sta.drop(drop_ptno)"
   ]
  },
  {
   "cell_type": "code",
   "execution_count": 32,
   "metadata": {},
   "outputs": [],
   "source": [
    "#real\n",
    "real_sta['BSPT_DEAD'] = real_sta['BSPT_DEAD_YMD'].apply(lambda x : '1' if pd.notnull(x) else '0')\n",
    "\n",
    "syn_sta['BSPT_DEAD'] = syn_sta['BSPT_DEAD_YMD'].apply(lambda x : '1' if pd.notnull(x) else '0')\n",
    "\n",
    "syn_sta[['BSPT_BRYM','BSPT_FRST_DIAG_YMD','BSPT_DEAD_YMD','seq_len']] = syn_sta[['BSPT_BRYM','BSPT_FRST_DIAG_YMD',\n",
    "                                                                                 'BSPT_DEAD_YMD','seq_len']].astype('float')\n",
    "\n",
    "\n",
    "ref_date = pd.to_datetime(20070101, format='%Y%m%d')\n",
    "\n",
    "real_sta['BSPT_FRST_DIAG_YMD_'] = real_sta['BSPT_FRST_DIAG_YMD'].apply(lambda x: \n",
    "                                    datetime.timedelta(x)) + ref_date\n",
    "\n",
    "syn_sta['BSPT_FRST_DIAG_YMD_'] = syn_sta['BSPT_FRST_DIAG_YMD'].apply(lambda x: \n",
    "                                    datetime.timedelta(x)) + ref_date\n",
    "\n",
    "\n",
    "\n",
    "#생년월일(real)\n",
    "real_sta['BSPT_BRYM'] = (real_sta['BSPT_BRYM'].apply(lambda x: \n",
    "                            datetime.timedelta(x)) + pd.to_datetime('19000101', format = '%Y%m%d'))\n",
    "\n",
    "#나이(real)\n",
    "real_sta['BSPT_IDGN_AGE'] = real_sta['BSPT_FRST_DIAG_YMD_'].dt.year - real_sta['BSPT_BRYM'].dt.year\n",
    "\n",
    "#생년월일(syn)\n",
    "syn_sta['BSPT_BRYM'] = (syn_sta['BSPT_BRYM'].apply(lambda x: \n",
    "                            datetime.timedelta(x)) + pd.to_datetime('19000101', format = '%Y%m%d'))\n",
    "\n",
    "#나이(syn)\n",
    "syn_sta['BSPT_IDGN_AGE'] = syn_sta['BSPT_FRST_DIAG_YMD_'].dt.year - syn_sta['BSPT_BRYM'].dt.year\n",
    "\n",
    "\n",
    "\n",
    "\n",
    "real_sta.drop(columns = ['BSPT_BRYM','BSPT_FRST_DIAG_YMD_','seq_len'],inplace = True)\n",
    "syn_sta.drop(columns = ['BSPT_BRYM','BSPT_FRST_DIAG_YMD_','seq_len'],inplace = True)\n",
    "\n",
    "\n",
    "cols = real_sta.columns.tolist()\n",
    "\n",
    "# real\n",
    "tot_real_sta = []\n",
    "for col in cols:\n",
    "    tot_real_sta.append([col, real_sta[col].dropna().tolist()])\n",
    "\n",
    "# syn\n",
    "tot_syn_sta = []\n",
    "for col in cols:\n",
    "    tot_syn_sta.append([col, syn_sta[col].dropna().tolist()])"
   ]
  },
  {
   "cell_type": "code",
   "execution_count": 33,
   "metadata": {},
   "outputs": [],
   "source": [
    "numeric = ['BSPT_IDGN_AGE','BSPT_FRST_DIAG_YMD','BSPT_DEAD_YMD']\n",
    "\n",
    "# num, cat 분리\n",
    "sta_syn_num = [tot_syn_sta[i] for i in range(len(tot_syn_sta)) if tot_syn_sta[i][0] in numeric]\n",
    "sta_syn_cat = [tot_syn_sta[i] for i in range(len(tot_syn_sta)) if tot_syn_sta[i][0] not in numeric]\n",
    "\n",
    "sta_real_num = [tot_real_sta[i] for i in range(len(tot_real_sta)) if tot_real_sta[i][0] in numeric]\n",
    "sta_real_cat = [tot_real_sta[i] for i in range(len(tot_real_sta)) if tot_real_sta[i][0] not in numeric]"
   ]
  },
  {
   "cell_type": "code",
   "execution_count": 34,
   "metadata": {},
   "outputs": [],
   "source": [
    "#numeric's HD\n",
    "hd_list = []\n",
    "bin_list = [1,1,1,1]\n",
    "for k,g in enumerate(zip(sta_real_num,sta_syn_num)):\n",
    "    hd_list.append([g[0][0],hd(g[0][1],g[1][1],bin_list[k])])"
   ]
  },
  {
   "cell_type": "code",
   "execution_count": 35,
   "metadata": {},
   "outputs": [
    {
     "data": {
      "text/html": [
       "<div>\n",
       "<style scoped>\n",
       "    .dataframe tbody tr th:only-of-type {\n",
       "        vertical-align: middle;\n",
       "    }\n",
       "\n",
       "    .dataframe tbody tr th {\n",
       "        vertical-align: top;\n",
       "    }\n",
       "\n",
       "    .dataframe thead th {\n",
       "        text-align: right;\n",
       "    }\n",
       "</style>\n",
       "<table border=\"1\" class=\"dataframe\">\n",
       "  <thead>\n",
       "    <tr style=\"text-align: right;\">\n",
       "      <th></th>\n",
       "      <th>COL</th>\n",
       "      <th>HD</th>\n",
       "    </tr>\n",
       "  </thead>\n",
       "  <tbody>\n",
       "    <tr>\n",
       "      <th>0</th>\n",
       "      <td>BSPT_FRST_DIAG_YMD</td>\n",
       "      <td>0.135982</td>\n",
       "    </tr>\n",
       "    <tr>\n",
       "      <th>1</th>\n",
       "      <td>BSPT_DEAD_YMD</td>\n",
       "      <td>0.246331</td>\n",
       "    </tr>\n",
       "    <tr>\n",
       "      <th>2</th>\n",
       "      <td>BSPT_IDGN_AGE</td>\n",
       "      <td>0.007067</td>\n",
       "    </tr>\n",
       "  </tbody>\n",
       "</table>\n",
       "</div>"
      ],
      "text/plain": [
       "                  COL        HD\n",
       "0  BSPT_FRST_DIAG_YMD  0.135982\n",
       "1       BSPT_DEAD_YMD  0.246331\n",
       "2       BSPT_IDGN_AGE  0.007067"
      ]
     },
     "execution_count": 35,
     "metadata": {},
     "output_type": "execute_result"
    }
   ],
   "source": [
    "pd.DataFrame(hd_list, columns = ['COL','HD'])"
   ]
  },
  {
   "cell_type": "code",
   "execution_count": 36,
   "metadata": {},
   "outputs": [],
   "source": [
    "#stage, m_stage dtype \n",
    "sta_syn_cat[2][1] = [str(int(i)) for i in sta_syn_cat[2][1]]\n",
    "sta_syn_cat[5][1] = [str(int(i)) for i in sta_syn_cat[5][1]]"
   ]
  },
  {
   "cell_type": "code",
   "execution_count": 37,
   "metadata": {},
   "outputs": [],
   "source": [
    "#cat's HD\n",
    "hd_list = []\n",
    "for k,g in enumerate(zip(sta_real_cat,sta_syn_cat)):\n",
    "    hd_list.append([g[0][0],hd_cat(g[0][1],g[1][1])])"
   ]
  },
  {
   "cell_type": "code",
   "execution_count": 38,
   "metadata": {},
   "outputs": [
    {
     "data": {
      "text/html": [
       "<div>\n",
       "<style scoped>\n",
       "    .dataframe tbody tr th:only-of-type {\n",
       "        vertical-align: middle;\n",
       "    }\n",
       "\n",
       "    .dataframe tbody tr th {\n",
       "        vertical-align: top;\n",
       "    }\n",
       "\n",
       "    .dataframe thead th {\n",
       "        text-align: right;\n",
       "    }\n",
       "</style>\n",
       "<table border=\"1\" class=\"dataframe\">\n",
       "  <thead>\n",
       "    <tr style=\"text-align: right;\">\n",
       "      <th></th>\n",
       "      <th>0</th>\n",
       "      <th>1</th>\n",
       "    </tr>\n",
       "  </thead>\n",
       "  <tbody>\n",
       "    <tr>\n",
       "      <th>0</th>\n",
       "      <td>BSPT_SEX_CD</td>\n",
       "      <td>0.0059</td>\n",
       "    </tr>\n",
       "    <tr>\n",
       "      <th>1</th>\n",
       "      <td>BSPT_FRST_DIAG_CD</td>\n",
       "      <td>0.0348</td>\n",
       "    </tr>\n",
       "    <tr>\n",
       "      <th>2</th>\n",
       "      <td>BSPT_STAG_VL</td>\n",
       "      <td>0.0623</td>\n",
       "    </tr>\n",
       "    <tr>\n",
       "      <th>3</th>\n",
       "      <td>BSPT_T_STAG_VL</td>\n",
       "      <td>0.0722</td>\n",
       "    </tr>\n",
       "    <tr>\n",
       "      <th>4</th>\n",
       "      <td>BSPT_N_STAG_VL</td>\n",
       "      <td>0.0385</td>\n",
       "    </tr>\n",
       "    <tr>\n",
       "      <th>5</th>\n",
       "      <td>BSPT_M_STAG_VL</td>\n",
       "      <td>0.0241</td>\n",
       "    </tr>\n",
       "    <tr>\n",
       "      <th>6</th>\n",
       "      <td>BSPT_DEAD</td>\n",
       "      <td>0.0214</td>\n",
       "    </tr>\n",
       "  </tbody>\n",
       "</table>\n",
       "</div>"
      ],
      "text/plain": [
       "                   0       1\n",
       "0        BSPT_SEX_CD  0.0059\n",
       "1  BSPT_FRST_DIAG_CD  0.0348\n",
       "2       BSPT_STAG_VL  0.0623\n",
       "3     BSPT_T_STAG_VL  0.0722\n",
       "4     BSPT_N_STAG_VL  0.0385\n",
       "5     BSPT_M_STAG_VL  0.0241\n",
       "6          BSPT_DEAD  0.0214"
      ]
     },
     "execution_count": 38,
     "metadata": {},
     "output_type": "execute_result"
    }
   ],
   "source": [
    "pd.DataFrame(hd_list)"
   ]
  },
  {
   "cell_type": "code",
   "execution_count": null,
   "metadata": {},
   "outputs": [],
   "source": []
  },
  {
   "cell_type": "code",
   "execution_count": null,
   "metadata": {},
   "outputs": [],
   "source": []
  }
 ],
 "metadata": {
  "kernelspec": {
   "display_name": "rtsgan",
   "language": "python",
   "name": "rtsgan"
  },
  "language_info": {
   "codemirror_mode": {
    "name": "ipython",
    "version": 3
   },
   "file_extension": ".py",
   "mimetype": "text/x-python",
   "name": "python",
   "nbconvert_exporter": "python",
   "pygments_lexer": "ipython3",
   "version": "3.7.13"
  }
 },
 "nbformat": 4,
 "nbformat_minor": 4
}
