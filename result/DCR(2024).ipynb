{
 "cells": [
  {
   "cell_type": "code",
   "execution_count": 1,
   "metadata": {},
   "outputs": [],
   "source": [
    "import numpy as np\n",
    "import pandas as pd\n",
    "import os\n",
    "import pickle\n",
    "import matplotlib.pyplot as plt\n",
    "import seaborn as sns\n",
    "from scipy import stats\n",
    "from tqdm import tqdm\n",
    "import itertools\n",
    "import datetime\n",
    "from datetime import timedelta"
   ]
  },
  {
   "cell_type": "code",
   "execution_count": 2,
   "metadata": {},
   "outputs": [],
   "source": [
    "with open(os.path.join('/home/tohone06/','result','paper_drop_srgc_mlpt_202310/train_replaced_with_syn.pkl'), 'rb') as f:\n",
    "    test = pickle.load(f)\n",
    "\n",
    "real_sta = test['raw_set'][0]\n",
    "real_dyn = test['raw_set'][1] \n",
    "\n",
    "real_sta_test = test['test_set'][0]\n",
    "real_dyn_test = test['test_set'][1] \n",
    "\n",
    "\n",
    "syn_sta = test['train_set'][0]\n",
    "syn_dyn = test['train_set'][1]"
   ]
  },
  {
   "cell_type": "code",
   "execution_count": null,
   "metadata": {},
   "outputs": [],
   "source": []
  },
  {
   "cell_type": "code",
   "execution_count": 3,
   "metadata": {},
   "outputs": [],
   "source": [
    "lst = []\n",
    "for k,g in enumerate(real_dyn):\n",
    "    g['PTNO'] = k\n",
    "    lst.append(g)\n",
    "real_dyn = pd.concat(lst)"
   ]
  },
  {
   "cell_type": "code",
   "execution_count": 4,
   "metadata": {},
   "outputs": [],
   "source": [
    "real_sta = real_sta.reset_index(drop = True)\n",
    "real_sta = real_sta.reset_index()\n",
    "real_sta = real_sta.rename(columns = {'index':'PTNO'})"
   ]
  },
  {
   "cell_type": "code",
   "execution_count": 5,
   "metadata": {},
   "outputs": [],
   "source": [
    "real = pd.merge(real_sta,real_dyn, how = 'left', on= 'PTNO')\n",
    "real = real.drop(columns = ['PTNO','LINE'])"
   ]
  },
  {
   "cell_type": "code",
   "execution_count": 6,
   "metadata": {},
   "outputs": [
    {
     "data": {
      "text/plain": [
       "Index(['BSPT_SEX_CD', 'BSPT_BRYM', 'BSPT_FRST_DIAG_YMD', 'BSPT_FRST_DIAG_CD',\n",
       "       'BSPT_DEAD_YMD', 'BSPT_STAG_VL', 'BSPT_T_STAG_VL', 'BSPT_N_STAG_VL',\n",
       "       'BSPT_M_STAG_VL', 'BSPT_DEAD', 'seq_len', 'CEXM_RSLT_CONT', 'TIMESTAMP',\n",
       "       'BPTH_BPSY_RSLT_CONT', 'IMPT_HM1E_RSLT_CD', 'IMPT_HS2E_RSLT_CD',\n",
       "       'IMPT_HS6E_RSLT_CD', 'IMPT_HP2E_RSLT_CD', 'MLPT_KRES_RSLT_CD',\n",
       "       'MLPT_NREX_RSLT_CD', 'MLPT_BRME_RSLT_CD', 'SGPT_PATL_STAG_VL',\n",
       "       'SGPT_PATL_T_STAG_VL', 'SGPT_PATL_N_STAG_VL', 'SGPT_PATL_M_STAG_VL',\n",
       "       'SGPT_SRMV_LN_CNT', 'SGPT_MTST_LN_CNT', 'SGPT_TUMR_BUDD_CD',\n",
       "       'OPRT_CLCN_OPRT_KIND_CD', 'OPRT_CURA_RSCT_CD', 'CSTR_PRPS_CD',\n",
       "       'CSTR_REGN_CD', 'CSTR_END_YMD', 'CSTR_NT', 'RDT_END_YMD'],\n",
       "      dtype='object')"
      ]
     },
     "execution_count": 6,
     "metadata": {},
     "output_type": "execute_result"
    }
   ],
   "source": [
    "real.columns"
   ]
  },
  {
   "cell_type": "code",
   "execution_count": 7,
   "metadata": {},
   "outputs": [],
   "source": [
    "lst = []\n",
    "for k,g in enumerate(real_dyn_test):\n",
    "    g['PTNO'] = k\n",
    "    lst.append(g)\n",
    "real_dyn_test = pd.concat(lst)\n",
    "\n",
    "real_sta_test = real_sta_test.reset_index(drop = True)\n",
    "real_sta_test = real_sta_test.reset_index()\n",
    "real_sta_test = real_sta_test.rename(columns = {'index':'PTNO'})\n",
    "\n",
    "real_test = pd.merge(real_sta_test,real_dyn_test, how = 'left', on= 'PTNO')\n",
    "\n",
    "real_test = real_test.drop(columns = ['PTNO','LINE'])"
   ]
  },
  {
   "cell_type": "code",
   "execution_count": 8,
   "metadata": {},
   "outputs": [],
   "source": [
    "lst = []\n",
    "for k,g in enumerate(syn_dyn):\n",
    "    g['PTNO'] = k\n",
    "    lst.append(g)\n",
    "syn_dyn = pd.concat(lst)"
   ]
  },
  {
   "cell_type": "code",
   "execution_count": 9,
   "metadata": {},
   "outputs": [],
   "source": [
    "syn_sta = syn_sta.reset_index(drop = True)\n",
    "syn_sta = syn_sta.reset_index()\n",
    "syn_sta = syn_sta.rename(columns = {'index':'PTNO'})"
   ]
  },
  {
   "cell_type": "code",
   "execution_count": 10,
   "metadata": {},
   "outputs": [],
   "source": [
    "syn = pd.merge(syn_sta,syn_dyn, how = 'left', on= 'PTNO')"
   ]
  },
  {
   "cell_type": "code",
   "execution_count": 11,
   "metadata": {},
   "outputs": [],
   "source": [
    "syn = syn.drop(columns = ['PTNO','LINE'])"
   ]
  },
  {
   "cell_type": "code",
   "execution_count": 12,
   "metadata": {},
   "outputs": [],
   "source": [
    "numerical_cols =['BSPT_BRYM',\n",
    " 'BSPT_FRST_DIAG_YMD',\n",
    " 'BSPT_DEAD_YMD',\n",
    " 'seq_len',\n",
    " 'TIMESTAMP',\n",
    "'CEXM_RSLT_CONT',\n",
    " 'SGPT_SRMV_LN_CNT',\n",
    " 'SGPT_MTST_LN_CNT',\n",
    " 'CSTR_END_YMD',\n",
    " 'CSTR_NT',\n",
    " 'RDT_END_YMD']\n",
    "\n",
    "categorical_cols = [c for c in real.columns if c not in numerical_cols]"
   ]
  },
  {
   "cell_type": "code",
   "execution_count": 13,
   "metadata": {},
   "outputs": [],
   "source": [
    "#real\n",
    "# 범주형 변수 One-Hot Encoding 및 NaN 값 처리\n",
    "one_hot_encoded = pd.get_dummies(real[categorical_cols], dummy_na=True)\n",
    "\n",
    "\n",
    "# 기존 데이터프레임과 One-Hot Encoding된 데이터 합치기\n",
    "real_encoded = pd.concat([real, one_hot_encoded], axis=1)\n",
    "\n",
    "# 기존 범주형 변수 열 삭제\n",
    "real = real_encoded.drop(categorical_cols, axis=1)\n",
    "\n",
    "# real_test\n",
    "# 범주형 변수 One-Hot Encoding 및 NaN 값 처리\n",
    "one_hot_encoded = pd.get_dummies(real_test[categorical_cols], dummy_na=True)\n",
    "\n",
    "# 기존 데이터프레임과 One-Hot Encoding된 데이터 합치기\n",
    "real_test_encoded = pd.concat([real_test, one_hot_encoded], axis=1)\n",
    "\n",
    "# 기존 범주형 변수 열 삭제\n",
    "real_test = real_test_encoded.drop(categorical_cols, axis=1)\n",
    "\n",
    "#syn\n",
    "# 범주형 변수 One-Hot Encoding 및 NaN 값 처리\n",
    "one_hot_encoded = pd.get_dummies(syn[categorical_cols], dummy_na=True)\n",
    "\n",
    "# 기존 데이터프레임과 One-Hot Encoding된 데이터 합치기\n",
    "syn_encoded = pd.concat([syn, one_hot_encoded], axis=1)\n",
    "\n",
    "# 기존 범주형 변수 열 삭제\n",
    "syn = syn_encoded.drop(categorical_cols, axis=1)"
   ]
  },
  {
   "cell_type": "code",
   "execution_count": 14,
   "metadata": {},
   "outputs": [],
   "source": [
    "real = real.fillna(0)\n",
    "real_test = real_test.fillna(0)\n",
    "syn = syn.fillna(0)"
   ]
  },
  {
   "cell_type": "code",
   "execution_count": 17,
   "metadata": {},
   "outputs": [],
   "source": [
    "syn.rename(columns = {'BSPT_M_STAG_VL_0.0':'BSPT_M_STAG_VL_0','BSPT_M_STAG_VL_1.0':'BSPT_M_STAG_VL_1',\n",
    "                      'BSPT_STAG_VL_0.0':'BSPT_STAG_VL_0','BSPT_STAG_VL_1.0':'BSPT_STAG_VL_1',\n",
    "                      'BSPT_STAG_VL_2.0':'BSPT_STAG_VL_2','BSPT_STAG_VL_3.0':'BSPT_STAG_VL_3',\n",
    "                     'BSPT_STAG_VL_4.0':'BSPT_STAG_VL_4','CEXM_RSLT_CONT_1.0':'CEXM_RSLT_CONT_1',\n",
    "                     'CEXM_RSLT_CONT_2.0':'CEXM_RSLT_CONT_2','CEXM_RSLT_CONT_3.0':'CEXM_RSLT_CONT_3',\n",
    "                     'SGPT_PATL_M_STAG_VL_0.0':'SGPT_PATL_M_STAG_VL_0','SGPT_PATL_M_STAG_VL_1.0':'SGPT_PATL_M_STAG_VL_1',\n",
    "                     'SGPT_PATL_STAG_VL_0.0':'SGPT_PATL_STAG_VL_0','SGPT_PATL_STAG_VL_1.0':'SGPT_PATL_STAG_VL_1',\n",
    "                     'SGPT_PATL_STAG_VL_2.0':'SGPT_PATL_STAG_VL_2','SGPT_PATL_STAG_VL_3.0':'SGPT_PATL_STAG_VL_3',\n",
    "                     'SGPT_PATL_STAG_VL_4.0':'SGPT_PATL_STAG_VL_4'},inplace = True)"
   ]
  },
  {
   "cell_type": "code",
   "execution_count": 18,
   "metadata": {},
   "outputs": [
    {
     "name": "stderr",
     "output_type": "stream",
     "text": [
      "/home/tohone06/.conda/envs/rtsgan/lib/python3.7/site-packages/sklearn/base.py:493: FutureWarning: The feature names should match those that were passed during fit. Starting version 1.2, an error will be raised.\n",
      "Feature names must be in the same order as they were in fit.\n",
      "\n",
      "  warnings.warn(message, FutureWarning)\n",
      "/home/tohone06/.conda/envs/rtsgan/lib/python3.7/site-packages/sklearn/base.py:493: FutureWarning: The feature names should match those that were passed during fit. Starting version 1.2, an error will be raised.\n",
      "Feature names must be in the same order as they were in fit.\n",
      "\n",
      "  warnings.warn(message, FutureWarning)\n"
     ]
    }
   ],
   "source": [
    "from sklearn.neighbors import NearestNeighbors\n",
    "import numpy as np\n",
    "\n",
    "# 수치형 변수만 사용하여 NearestNeighbors 모델을 초기화합니다.\n",
    "\n",
    "# NearestNeighbors 모델을 훈련합니다.\n",
    "nn_model_real = NearestNeighbors(n_neighbors=1, algorithm='auto').fit(real)\n",
    "\n",
    "# 합성 데이터와 실제 데이터 간의 거리를 계산합니다.\n",
    "distances_real_test, _ = nn_model_real.kneighbors(real_test)\n",
    "distances_syn, _ = nn_model_real.kneighbors(syn)\n",
    "\n",
    "# 최종 DCR 값을 계산합니다.\n",
    "dcr_real_test_min = np.min(distances_real_test)\n",
    "dcr_syn_min = np.mean(distances_syn)\n",
    "\n",
    "\n"
   ]
  },
  {
   "cell_type": "code",
   "execution_count": 19,
   "metadata": {},
   "outputs": [],
   "source": [
    "dcr_real_test_min = np.min(distances_real_test)\n",
    "dcr_syn_min = np.min(distances_syn)"
   ]
  },
  {
   "cell_type": "code",
   "execution_count": 20,
   "metadata": {},
   "outputs": [
    {
     "data": {
      "text/plain": [
       "2.45"
      ]
     },
     "execution_count": 20,
     "metadata": {},
     "output_type": "execute_result"
    }
   ],
   "source": [
    "np.round(dcr_real_test_min,2)"
   ]
  },
  {
   "cell_type": "code",
   "execution_count": 21,
   "metadata": {},
   "outputs": [
    {
     "data": {
      "text/plain": [
       "3.46"
      ]
     },
     "execution_count": 21,
     "metadata": {},
     "output_type": "execute_result"
    }
   ],
   "source": [
    "np.round(dcr_syn_min,2)"
   ]
  },
  {
   "cell_type": "code",
   "execution_count": null,
   "metadata": {},
   "outputs": [],
   "source": []
  },
  {
   "cell_type": "code",
   "execution_count": null,
   "metadata": {},
   "outputs": [],
   "source": []
  }
 ],
 "metadata": {
  "kernelspec": {
   "display_name": "rtsgan",
   "language": "python",
   "name": "rtsgan"
  },
  "language_info": {
   "codemirror_mode": {
    "name": "ipython",
    "version": 3
   },
   "file_extension": ".py",
   "mimetype": "text/x-python",
   "name": "python",
   "nbconvert_exporter": "python",
   "pygments_lexer": "ipython3",
   "version": "3.7.13"
  }
 },
 "nbformat": 4,
 "nbformat_minor": 4
}
