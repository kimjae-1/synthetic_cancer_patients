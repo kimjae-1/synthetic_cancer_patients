{
 "cells": [
  {
   "cell_type": "code",
   "execution_count": 1,
   "metadata": {},
   "outputs": [],
   "source": [
    "import numpy as np\n",
    "import pandas as pd\n",
    "import os\n",
    "import pickle\n",
    "import matplotlib.pyplot as plt\n",
    "# import seaborn as sns\n",
    "from scipy import stats\n",
    "from tqdm import tqdm\n",
    "import datetime\n",
    "from datetime import timedelta\n",
    "\n",
    "from scipy.integrate import trapezoid"
   ]
  },
  {
   "cell_type": "code",
   "execution_count": 2,
   "metadata": {},
   "outputs": [],
   "source": [
    "from sklearn.model_selection import train_test_split\n",
    "from sklearn.metrics import mean_squared_error"
   ]
  },
  {
   "cell_type": "code",
   "execution_count": 3,
   "metadata": {},
   "outputs": [],
   "source": [
    "from sksurv.metrics import cumulative_dynamic_auc"
   ]
  },
  {
   "cell_type": "markdown",
   "metadata": {},
   "source": [
    "## real"
   ]
  },
  {
   "cell_type": "code",
   "execution_count": 4,
   "metadata": {},
   "outputs": [],
   "source": [
    "final = pd.read_csv('./final_real_paper.csv')"
   ]
  },
  {
   "cell_type": "code",
   "execution_count": 5,
   "metadata": {},
   "outputs": [],
   "source": [
    "final.reset_index(drop = True, inplace = True)\n",
    "\n",
    "from sklearn.model_selection import train_test_split\n",
    "data_train, data_test = train_test_split(final, test_size = 0.3, random_state = 42, stratify = final['DEAD'])# 0.3, 1000"
   ]
  },
  {
   "cell_type": "code",
   "execution_count": 6,
   "metadata": {},
   "outputs": [],
   "source": [
    "X_train, X_test = data_train.drop(columns = ['DIFF','DEAD']), data_test.drop(columns = ['DIFF','DEAD'])"
   ]
  },
  {
   "cell_type": "code",
   "execution_count": 7,
   "metadata": {},
   "outputs": [],
   "source": [
    "Y_train = []\n",
    "y = np.array(data_train[['DEAD','DIFF']]).tolist()\n",
    "for yy in y:\n",
    "    Y_train.append(tuple(yy))\n",
    "\n",
    "Y_train = np.array(Y_train, dtype=[('DEAD', bool), ('DIFF', int)])\n",
    "\n",
    "\n",
    "Y_test = []\n",
    "y = np.array(data_test[['DEAD','DIFF']]).tolist()\n",
    "for yy in y:\n",
    "    Y_test.append(tuple(yy))\n",
    "Y_test = np.array(Y_test, dtype=[('DEAD', bool), ('DIFF', int)])\n",
    "\n",
    "X_test_baseline, Y_test_baseline = X_test.copy(), Y_test.copy()"
   ]
  },
  {
   "cell_type": "code",
   "execution_count": 8,
   "metadata": {},
   "outputs": [
    {
     "data": {
      "text/plain": [
       "0.7765405472448269"
      ]
     },
     "execution_count": 8,
     "metadata": {},
     "output_type": "execute_result"
    }
   ],
   "source": [
    "from sksurv.ensemble import RandomSurvivalForest\n",
    "rsf = RandomSurvivalForest(random_state=42, n_estimators=120, max_depth=8, min_samples_leaf=4, max_features=3)\n",
    "rsf.fit(X_train, Y_train)\n",
    "\n",
    "#c-index\n",
    "rsf.score(X_test_baseline, Y_test_baseline)"
   ]
  },
  {
   "cell_type": "code",
   "execution_count": 9,
   "metadata": {},
   "outputs": [
    {
     "data": {
      "text/plain": [
       "0.7765"
      ]
     },
     "execution_count": 9,
     "metadata": {},
     "output_type": "execute_result"
    }
   ],
   "source": [
    "np.round(rsf.score(X_test_baseline, Y_test_baseline),4)"
   ]
  },
  {
   "cell_type": "markdown",
   "metadata": {},
   "source": [
    "### Brier score"
   ]
  },
  {
   "cell_type": "code",
   "execution_count": 10,
   "metadata": {},
   "outputs": [],
   "source": [
    "from sksurv.metrics import brier_score, integrated_brier_score\n",
    "# mask created to enable for calculating Brier score\n",
    "mask = (Y_test_baseline[\"DIFF\"] < Y_test_baseline[Y_test_baseline[\"DEAD\"]==1][\"DIFF\"].max()) & (Y_test_baseline[\"DIFF\"] > Y_test_baseline[Y_test_baseline[\"DEAD\"]==1][\"DIFF\"].min())\n",
    "times = np.unique(np.percentile(Y_test_baseline[mask][\"DIFF\"], np.linspace(1, 99, 100))) #.1, 99.9, 101\n",
    "\n",
    "survs_rsf = rsf.predict_survival_function(X_test_baseline[mask])\n",
    "# survs_cph = cph.predict_survival_function(X[mask])\n",
    "preds_rsf = [fn(times) for fn in survs_rsf]\n",
    "\n",
    "brier_rsf = brier_score(Y_train, Y_test_baseline[mask], preds_rsf, times)"
   ]
  },
  {
   "cell_type": "code",
   "execution_count": 11,
   "metadata": {},
   "outputs": [],
   "source": [
    "brier_real = pd.DataFrame({\"time\": times, \"brier_score\":  brier_rsf[1], \"label\": \"RSF\"})"
   ]
  },
  {
   "cell_type": "code",
   "execution_count": 12,
   "metadata": {},
   "outputs": [
    {
     "data": {
      "text/plain": [
       "0.0975"
      ]
     },
     "execution_count": 12,
     "metadata": {},
     "output_type": "execute_result"
    }
   ],
   "source": [
    "# Brier score\n",
    "np.round(brier_real['brier_score'].mean(),4)"
   ]
  },
  {
   "cell_type": "code",
   "execution_count": 13,
   "metadata": {},
   "outputs": [
    {
     "data": {
      "text/plain": [
       "0.13767781677067814"
      ]
     },
     "execution_count": 13,
     "metadata": {},
     "output_type": "execute_result"
    }
   ],
   "source": [
    "# IBS\n",
    "integrated_brier_score(Y_train, Y_test_baseline[mask], preds_rsf, times)"
   ]
  },
  {
   "cell_type": "code",
   "execution_count": 14,
   "metadata": {},
   "outputs": [],
   "source": [
    "rsf_risk_scores = rsf.predict(X_test_baseline[mask])\n",
    "rsf_auc_real, rsf_mean_auc = cumulative_dynamic_auc(Y_train, Y_test_baseline[mask], rsf_risk_scores, times)"
   ]
  },
  {
   "cell_type": "markdown",
   "metadata": {},
   "source": [
    "## syn"
   ]
  },
  {
   "cell_type": "code",
   "execution_count": 16,
   "metadata": {},
   "outputs": [],
   "source": [
    "final = pd.read_csv('./final_syn_paper_55000.csv')"
   ]
  },
  {
   "cell_type": "code",
   "execution_count": 17,
   "metadata": {},
   "outputs": [],
   "source": [
    "X_train = final.drop(columns = ['DIFF','DEAD'])"
   ]
  },
  {
   "cell_type": "code",
   "execution_count": 18,
   "metadata": {},
   "outputs": [],
   "source": [
    "Y_train = []\n",
    "y = np.array(final[['DEAD','DIFF']]).tolist()\n",
    "for yy in y:\n",
    "    Y_train.append(tuple(yy))\n",
    "\n",
    "Y_train = np.array(Y_train, dtype=[('DEAD', bool), ('DIFF', int)])\n",
    "\n",
    "\n"
   ]
  },
  {
   "cell_type": "code",
   "execution_count": 19,
   "metadata": {},
   "outputs": [
    {
     "data": {
      "text/plain": [
       "0.7415704865393759"
      ]
     },
     "execution_count": 19,
     "metadata": {},
     "output_type": "execute_result"
    }
   ],
   "source": [
    "from sksurv.ensemble import RandomSurvivalForest\n",
    "rsf = RandomSurvivalForest(random_state=42, n_estimators=120, max_depth=8, min_samples_leaf=4, max_features=3)\n",
    "rsf.fit(X_train, Y_train)\n",
    "\n",
    "#c-index\n",
    "rsf.score(X_test_baseline, Y_test_baseline)"
   ]
  },
  {
   "cell_type": "code",
   "execution_count": 20,
   "metadata": {},
   "outputs": [
    {
     "data": {
      "text/plain": [
       "0.7416"
      ]
     },
     "execution_count": 20,
     "metadata": {},
     "output_type": "execute_result"
    }
   ],
   "source": [
    "np.round(rsf.score(X_test_baseline, Y_test_baseline),4)"
   ]
  },
  {
   "cell_type": "markdown",
   "metadata": {},
   "source": [
    "### Brier Score"
   ]
  },
  {
   "cell_type": "code",
   "execution_count": 21,
   "metadata": {},
   "outputs": [],
   "source": [
    "from sksurv.metrics import brier_score, integrated_brier_score\n",
    "# mask created to enable for calculating Brier score\n",
    "mask = (Y_test_baseline[\"DIFF\"] < Y_test_baseline[Y_test_baseline[\"DEAD\"]==1][\"DIFF\"].max()) & (Y_test_baseline[\"DIFF\"] > Y_test_baseline[Y_test_baseline[\"DEAD\"]==1][\"DIFF\"].min())\n",
    "times = np.unique(np.percentile(Y_test_baseline[mask][\"DIFF\"], np.linspace(1, 99, 100)))\n",
    "\n",
    "survs_rsf = rsf.predict_survival_function(X_test_baseline[mask])\n",
    "# survs_cph = cph.predict_survival_function(X[mask])\n",
    "preds_rsf = [fn(times) for fn in survs_rsf]\n",
    "\n",
    "brier_rsf = brier_score(Y_train, Y_test_baseline[mask], preds_rsf, times)"
   ]
  },
  {
   "cell_type": "code",
   "execution_count": 22,
   "metadata": {},
   "outputs": [],
   "source": [
    "brier_syn = pd.DataFrame({\"time\": times, \"brier_score\":  brier_rsf[1], \"label\": \"RSF\"})"
   ]
  },
  {
   "cell_type": "code",
   "execution_count": 23,
   "metadata": {},
   "outputs": [
    {
     "data": {
      "text/plain": [
       "0.0749"
      ]
     },
     "execution_count": 23,
     "metadata": {},
     "output_type": "execute_result"
    }
   ],
   "source": [
    "# Brier score\n",
    "np.round(brier_syn['brier_score'].mean(),4)"
   ]
  },
  {
   "cell_type": "code",
   "execution_count": 24,
   "metadata": {},
   "outputs": [
    {
     "data": {
      "text/plain": [
       "0.10654755985451095"
      ]
     },
     "execution_count": 24,
     "metadata": {},
     "output_type": "execute_result"
    }
   ],
   "source": [
    "# IBS\n",
    "integrated_brier_score(Y_train, Y_test_baseline[mask], preds_rsf, times)"
   ]
  }
 ],
 "metadata": {
  "kernelspec": {
   "display_name": "pysurv",
   "language": "python",
   "name": "pysurv"
  },
  "language_info": {
   "codemirror_mode": {
    "name": "ipython",
    "version": 3
   },
   "file_extension": ".py",
   "mimetype": "text/x-python",
   "name": "python",
   "nbconvert_exporter": "python",
   "pygments_lexer": "ipython3",
   "version": "3.9.17"
  }
 },
 "nbformat": 4,
 "nbformat_minor": 4
}
